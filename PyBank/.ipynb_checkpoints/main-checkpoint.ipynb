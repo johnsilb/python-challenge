{
 "cells": [
  {
   "cell_type": "code",
   "execution_count": 1,
   "id": "22e47307",
   "metadata": {},
   "outputs": [],
   "source": [
    "#opening the data file.\n",
    "import os\n",
    "import csv\n",
    "#open file\n",
    "budget_csv = os.path.join(\"Resources\", \"budget_data.csv\") "
   ]
  },
  {
   "cell_type": "code",
   "execution_count": 2,
   "id": "202b90db",
   "metadata": {},
   "outputs": [],
   "source": [
    "#initialize accumulators and variables\n",
    "p_l_data = []\n",
    "years=0\n",
    "net_rev=0\n",
    "hi_rev=0\n",
    "low_rev=0"
   ]
  },
  {
   "cell_type": "code",
   "execution_count": 3,
   "id": "c41c8c55",
   "metadata": {},
   "outputs": [],
   "source": [
    "with open(budget_csv) as csvfile:\n",
    "    reader = csv.reader(csvfile)\n",
    "    # Read the header row\n",
    "    header = next(reader)\n",
    "    first_row = next(reader)\n",
    "    p_l_data.append(first_row)\n",
    "   \n",
    "    #years=years+1\n",
    "\n",
    "    for first_row in reader:\n",
    "        p_l_data.append(first_row)\n",
    "\n"
   ]
  },
  {
   "cell_type": "code",
   "execution_count": 4,
   "id": "152b4812",
   "metadata": {},
   "outputs": [],
   "source": [
    "    #accumulators and hi/low\n",
    "    for row in p_l_data:\n",
    "        years = years + 1\n",
    "        net_rev += int(row[1])\n",
    "        \n",
    "        if hi_rev < int(row[1]):\n",
    "            hi_rev = int(row[1])\n",
    "        \n",
    "        if low_rev > int(row[1]):\n",
    "            low_rev = int(row[1])"
   ]
  },
  {
   "cell_type": "code",
   "execution_count": 7,
   "id": "f8e4baa7",
   "metadata": {},
   "outputs": [
    {
     "name": "stdout",
     "output_type": "stream",
     "text": [
      "Number of Years  86\n",
      "Net Revenue:  22564198\n",
      "Net Revenue Per Year:  262374.3953488372\n",
      "Highest Yearly Revenue:  1141840\n",
      "Lowest Yearly Revenue:  -1194133\n"
     ]
    }
   ],
   "source": [
    "print(f\"Number of Years \", years)\n",
    "print(f\"Net Revenue: \",net_rev)\n",
    "print(f\"Net Revenue Per Year: \", net_rev/years)\n",
    "print(f\"Highest Yearly Revenue: \", hi_rev)\n",
    "print(f\"Lowest Yearly Revenue: \",low_rev)"
   ]
  },
  {
   "cell_type": "code",
   "execution_count": null,
   "id": "8de5d927",
   "metadata": {},
   "outputs": [],
   "source": []
  }
 ],
 "metadata": {
  "kernelspec": {
   "display_name": "PythonData",
   "language": "python",
   "name": "pythondata"
  },
  "language_info": {
   "codemirror_mode": {
    "name": "ipython",
    "version": 3
   },
   "file_extension": ".py",
   "mimetype": "text/x-python",
   "name": "python",
   "nbconvert_exporter": "python",
   "pygments_lexer": "ipython3",
   "version": "3.7.7"
  }
 },
 "nbformat": 4,
 "nbformat_minor": 5
}
