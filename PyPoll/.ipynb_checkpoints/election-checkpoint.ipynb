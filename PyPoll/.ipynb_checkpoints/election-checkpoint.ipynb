{
 "cells": [
  {
   "cell_type": "code",
   "execution_count": 1,
   "id": "bc2252d2",
   "metadata": {},
   "outputs": [],
   "source": [
    "#opening the data file.\n",
    "import os\n",
    "import csv"
   ]
  },
  {
   "cell_type": "code",
   "execution_count": 2,
   "id": "5d2bb581",
   "metadata": {},
   "outputs": [],
   "source": [
    "#open file\n",
    "election_csv = os.path.join(\"Resources\", \"election_data.csv\") "
   ]
  },
  {
   "cell_type": "code",
   "execution_count": 3,
   "id": "32e8a211",
   "metadata": {},
   "outputs": [],
   "source": [
    "#initialize counters and variables\n",
    "election_data = []\n",
    "votes = 0\n",
    "total_votes=0\n",
    "votes_stockham=0\n",
    "votes_degette=0\n",
    "votes_doane=0\n",
    "first_row =0\n",
    "prct_stockham = 0\n",
    "prct_degette = 0\n",
    "prct_doane = 0"
   ]
  },
  {
   "cell_type": "code",
   "execution_count": 4,
   "id": "9561e4da",
   "metadata": {},
   "outputs": [],
   "source": [
    "with open(election_csv) as csvfile:\n",
    "    reader = csv.reader(csvfile)\n",
    "    # Read the header row\n",
    "    header = next(reader)\n",
    "    \n",
    "    for data in reader:\n",
    "        election_data.append(data)\n",
    "        votes = votes + 1\n"
   ]
  },
  {
   "cell_type": "code",
   "execution_count": 5,
   "id": "5207c3ca",
   "metadata": {},
   "outputs": [],
   "source": [
    "#data analysis\n",
    "\n",
    "for row in election_data:\n",
    "\n",
    "    if row[2] == \"Charles Casper Stockham\":\n",
    "        votes_stockham = votes_stockham + 1\n",
    "\n",
    "    elif row[2] == \"Diana DeGette\":\n",
    "        votes_degette = votes_degette + 1\n",
    "\n",
    "    else:\n",
    "        votes_doane = votes_doane +1"
   ]
  },
  {
   "cell_type": "code",
   "execution_count": 6,
   "id": "7526d2dc",
   "metadata": {},
   "outputs": [],
   "source": [
    "prct_stockham = votes_stockham/votes\n",
    "prct_degette = votes_degette/votes\n",
    "prct_doane = votes_doane/votes\n",
    "\n",
    "if prct_degette > prct_doane and prct_degette > prct_stockham:\n",
    "    winner = \"Diana DeGette\"\n",
    "\n",
    "elif prct_doane > prct_stockham:\n",
    "    winner = \"Anthony Doane\"\n",
    "\n",
    "else:\n",
    "    winner = \"Charles Casper Stockham\"\n"
   ]
  },
  {
   "cell_type": "code",
   "execution_count": 7,
   "id": "def04471",
   "metadata": {},
   "outputs": [
    {
     "name": "stdout",
     "output_type": "stream",
     "text": [
      "\n",
      "                    ELECTION RESULTS\n",
      "------------------------------------------------\n",
      "Total Votes: 369711\n",
      "------------------------------------------------\n",
      "Charles Casper Stockham: 23.049%  (85213)\n",
      "Diana DeGette: 73.812%  (272892)\n",
      "Anthony Doane: 3.139%  (11606)\n",
      "--------------------------------------------------\n",
      "Winner:   Diana DeGette\n",
      "--------------------------------------------------\n"
     ]
    }
   ],
   "source": [
    "#for row in election_data:\n",
    "#    print(election_data)\n",
    "print(\"\")\n",
    "print(\"                    ELECTION RESULTS\")\n",
    "print(\"------------------------------------------------\")\n",
    "print(f\"Total Votes: {votes}\")\n",
    "print(\"------------------------------------------------\")\n",
    "\n",
    "print(f\"Charles Casper Stockham: {round(prct_stockham*100,3)}%  ({votes_stockham})\")\n",
    "print(f\"Diana DeGette: {round(prct_degette*100,3)}%  ({votes_degette})\")\n",
    "print(f\"Anthony Doane: {round(prct_doane*100,3)}%  ({votes_doane})\")\n",
    "print(\"--------------------------------------------------\")\n",
    "print(\"Winner:   \" + winner)\n",
    "print(\"--------------------------------------------------\")"
   ]
  },
  {
   "cell_type": "code",
   "execution_count": null,
   "id": "d9a42d7e",
   "metadata": {},
   "outputs": [],
   "source": []
  }
 ],
 "metadata": {
  "kernelspec": {
   "display_name": "Python 3 (ipykernel)",
   "language": "python",
   "name": "python3"
  },
  "language_info": {
   "codemirror_mode": {
    "name": "ipython",
    "version": 3
   },
   "file_extension": ".py",
   "mimetype": "text/x-python",
   "name": "python",
   "nbconvert_exporter": "python",
   "pygments_lexer": "ipython3",
   "version": "3.7.7"
  }
 },
 "nbformat": 4,
 "nbformat_minor": 5
}
